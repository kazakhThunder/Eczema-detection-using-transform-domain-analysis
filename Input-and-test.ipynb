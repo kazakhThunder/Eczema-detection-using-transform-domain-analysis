{
 "cells": [
  {
   "cell_type": "code",
   "execution_count": 1,
   "id": "requested-accounting",
   "metadata": {},
   "outputs": [],
   "source": [
    "import cv2\n",
    "import pywt\n",
    "import numpy as np\n",
    "import matplotlib.pyplot as plt\n",
    "import numpy as np\n",
    "import pickle\n",
    "from scipy import stats as stats\n",
    "from skimage import feature\n",
    "from skimage.feature import greycoprops,greycomatrix\n",
    "import os\n",
    "import skimage.measure\n",
    "from keras.models import Sequential\n",
    "from keras.layers import Dense, Conv2D, MaxPool2D, Flatten,Activation\n",
    "from keras import layers\n",
    "import tensorflow as tf\n",
    "from keras.models import load_model"
   ]
  },
  {
   "cell_type": "code",
   "execution_count": 2,
   "id": "suited-carbon",
   "metadata": {},
   "outputs": [],
   "source": [
    "model=load_model('model.h5')"
   ]
  },
  {
   "cell_type": "code",
   "execution_count": 45,
   "id": "clinical-probability",
   "metadata": {},
   "outputs": [
    {
     "data": {
      "text/plain": [
       "<matplotlib.image.AxesImage at 0x2a15ece2f10>"
      ]
     },
     "execution_count": 45,
     "metadata": {},
     "output_type": "execute_result"
    },
    {
     "data": {
      "image/png": "[encoded data removed]",
      "text/plain": [
       "<Figure size 432x288 with 1 Axes>"
      ]
     },
     "metadata": {
      "needs_background": "light"
     },
     "output_type": "display_data"
    }
   ],
   "source": [
    "img=cv2.imread('dataset/testCrop/unaffected-1.jpg')\n",
    "#mild4 severe3\n",
    "img = cv2.cvtColor(img, cv2.COLOR_RGB2GRAY)\n",
    "plt.imshow(img,cmap='gray')"
   ]
  },
  {
   "cell_type": "code",
   "execution_count": 46,
   "id": "significant-mounting",
   "metadata": {},
   "outputs": [
    {
     "name": "stdout",
     "output_type": "stream",
     "text": [
      "(1, 7)\n",
      "[[6.92820323e-02]\n",
      " [3.82537954e-02]\n",
      " [9.46366667e+01]\n",
      " [7.64333333e+00]\n",
      " [1.27828154e-01]\n",
      " [1.84643786e-01]\n",
      " [4.80000000e-03]]\n"
     ]
    }
   ],
   "source": [
    "rows=[]\n",
    "coeffs=pywt.wavedec(img, 'db1',level=1)\n",
    "cA=coeffs[0]\n",
    "cA = cA / cA.max()\n",
    "cA = 255 * cA \n",
    "cA=cA.astype(np.uint8)\n",
    "g=greycomatrix(cA,[1],[0],normed=True)\n",
    "temp=[np.mean(greycoprops(g, 'energy')),skimage.measure.shannon_entropy(g),np.mean(greycoprops(g, 'contrast')),np.mean(greycoprops(g, 'dissimilarity')),np.mean(greycoprops(g, 'homogeneity')),np.mean(greycoprops(g, 'correlation')),np.mean(greycoprops(g, 'ASM'))]\n",
    "rows.append(temp)\n",
    "rows=np.array(rows)\n",
    "print(rows.shape)\n",
    "rows = rows.reshape(-1,1,7,1)\n",
    "print(rows[0][0])"
   ]
  },
  {
   "cell_type": "code",
   "execution_count": 47,
   "id": "filled-pontiac",
   "metadata": {},
   "outputs": [
    {
     "data": {
      "text/plain": [
       "0"
      ]
     },
     "execution_count": 47,
     "metadata": {},
     "output_type": "execute_result"
    }
   ],
   "source": [
    "prediction = model.predict(rows)\n",
    "np.argmax(prediction)"
   ]
  },
  {
   "cell_type": "code",
   "execution_count": null,
   "id": "crude-netherlands",
   "metadata": {},
   "outputs": [],
   "source": []
  }
 ],
 "metadata": {
  "kernelspec": {
   "display_name": "Python 3",
   "language": "python",
   "name": "python3"
  },
  "language_info": {
   "codemirror_mode": {
    "name": "ipython",
    "version": 3
   },
   "file_extension": ".py",
   "mimetype": "text/x-python",
   "name": "python",
   "nbconvert_exporter": "python",
   "pygments_lexer": "ipython3",
   "version": "3.8.3"
  }
 },
 "nbformat": 4,
 "nbformat_minor": 5
}
