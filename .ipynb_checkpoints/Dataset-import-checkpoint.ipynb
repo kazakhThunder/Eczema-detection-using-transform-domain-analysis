{
 "cells": [
  {
   "cell_type": "code",
   "execution_count": 7,
   "id": "prepared-upset",
   "metadata": {},
   "outputs": [],
   "source": [
    "import os\n",
    "import pickle\n",
    "import cv2\n",
    "import numpy as np"
   ]
  },
  {
   "cell_type": "code",
   "execution_count": 8,
   "id": "damaged-approach",
   "metadata": {},
   "outputs": [],
   "source": [
    "train_images1=[]\n",
    "train_labels1=[]\n",
    "folder='dataset/tempTrain'\n",
    "for filename in os.listdir(folder):\n",
    "    img = cv2.imread(os.path.join(folder,filename))\n",
    "    if img is not None:\n",
    "        t1=filename[:6]\n",
    "        if t1== \"eczema\":\n",
    "            train_labels1.append(1)\n",
    "        else:\n",
    "            train_labels1.append(0)\n",
    "        img = cv2.cvtColor(img, cv2.COLOR_RGB2GRAY)\n",
    "        img=cv2.resize(img,(28,28))\n",
    "        ret2,img = cv2.threshold(img,0,255,cv2.THRESH_BINARY+cv2.THRESH_OTSU)\n",
    "        train_images1.append(img)"
   ]
  },
  {
   "cell_type": "code",
   "execution_count": 9,
   "id": "suburban-bottle",
   "metadata": {},
   "outputs": [],
   "source": [
    "test_images1=[]\n",
    "test_labels1=[]\n",
    "folder='dataset/tempTest'\n",
    "for filename in os.listdir(folder):\n",
    "    img = cv2.imread(os.path.join(folder,filename))\n",
    "    if img is not None:\n",
    "        t1=filename[:6]\n",
    "        if t1 == \"eczema\":\n",
    "            test_labels1.append(1)\n",
    "        else:\n",
    "            test_labels1.append(0)\n",
    "        img = cv2.cvtColor(img, cv2.COLOR_RGB2GRAY)\n",
    "        img=cv2.resize(img,(28,28))\n",
    "        ret2,img = cv2.threshold(img,0,255,cv2.THRESH_BINARY+cv2.THRESH_OTSU)\n",
    "        test_images1.append(img)"
   ]
  },
  {
   "cell_type": "code",
   "execution_count": 10,
   "id": "executive-fifth",
   "metadata": {},
   "outputs": [],
   "source": [
    "train_images=np.array(train_images1)\n",
    "train_labels=np.array(train_labels1)\n",
    "test_images=np.array(test_images1)\n",
    "test_labels=np.array(test_labels1)"
   ]
  },
  {
   "cell_type": "code",
   "execution_count": 11,
   "id": "prostate-preference",
   "metadata": {},
   "outputs": [],
   "source": [
    "# X_train=feature_extractor(train_images)\n",
    "X_train=train_images\n",
    "y_train=train_labels\n",
    "# X_test=feature_extractor(test_images)\n",
    "X_test=(test_images)\n",
    "y_test=test_labels\n",
    "# X_train = X_train.reshape(-1, 28,28, 1)\n",
    "# X_test = X_test.reshape(-1, 28,28, 1)\n",
    "# X_train = X_train.astype('float32')\n",
    "# X_test = X_test.astype('float32')\n",
    "# X_train /= 255.0\n",
    "# X_test /= 255.0"
   ]
  },
  {
   "cell_type": "code",
   "execution_count": 12,
   "id": "bound-sugar",
   "metadata": {},
   "outputs": [],
   "source": [
    "pickle_out = open(\"X_train\",\"wb\")\n",
    "pickle.dump(X_train, pickle_out)\n",
    "pickle_out.close()\n",
    "\n",
    "pickle_out = open(\"y_train\",\"wb\")\n",
    "pickle.dump(y_train, pickle_out)\n",
    "pickle_out.close()\n",
    "\n",
    "pickle_out = open(\"X_test\",\"wb\")\n",
    "pickle.dump(X_test, pickle_out)\n",
    "pickle_out.close()\n",
    "\n",
    "pickle_out = open(\"y_test\",\"wb\")\n",
    "pickle.dump(y_test, pickle_out)\n",
    "pickle_out.close()"
   ]
  }
 ],
 "metadata": {
  "kernelspec": {
   "display_name": "Python 3",
   "language": "python",
   "name": "python3"
  },
  "language_info": {
   "codemirror_mode": {
    "name": "ipython",
    "version": 3
   },
   "file_extension": ".py",
   "mimetype": "text/x-python",
   "name": "python",
   "nbconvert_exporter": "python",
   "pygments_lexer": "ipython3",
   "version": "3.8.3"
  }
 },
 "nbformat": 4,
 "nbformat_minor": 5
}
